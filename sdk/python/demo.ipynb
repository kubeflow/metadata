{
 "cells": [
  {
   "cell_type": "code",
   "execution_count": 1,
   "metadata": {},
   "outputs": [],
   "source": [
    "!pip install pandas"
   ]
  },
  {
   "cell_type": "markdown",
   "metadata": {},
   "source": [
    "### Install the _kfmd_ library"
   ]
  },
  {
   "cell_type": "code",
   "execution_count": 2,
   "metadata": {},
   "outputs": [],
   "source": [
    "# use local `kfmd` library\n",
    "import sys\n",
    "sys.path\n",
    "sys.path.append('/home/jovyan/work/sdk/python/kfmd')\n",
    "\n",
    "# To use the latest publish `kfmd` library, run\n",
    "# !pip install kfmd"
   ]
  },
  {
   "cell_type": "code",
   "execution_count": 3,
   "metadata": {},
   "outputs": [],
   "source": [
    "import pandas\n",
    "import metadata"
   ]
  },
  {
   "cell_type": "markdown",
   "metadata": {},
   "source": [
    "### Create a workspace"
   ]
  },
  {
   "cell_type": "code",
   "execution_count": 4,
   "metadata": {},
   "outputs": [],
   "source": [
    "ws1 = metadata.Workspace(\n",
    "    backend_url_prefix=\"127.0.0.1:8080\",\n",
    "    name=\"ws1\",\n",
    "    description=\"a workspace for testing\",\n",
    "    labels={\"n1\": \"v1\"})"
   ]
  },
  {
   "cell_type": "markdown",
   "metadata": {},
   "source": [
    "### Create a run in a workspace"
   ]
  },
  {
   "cell_type": "code",
   "execution_count": 5,
   "metadata": {},
   "outputs": [],
   "source": [
    "r = metadata.Run(\n",
    "    workspace=ws1,\n",
    "    name=\"first run\",\n",
    "    description=\"first run in ws_1\",\n",
    ")"
   ]
  },
  {
   "cell_type": "markdown",
   "metadata": {},
   "source": [
    "### Log a data set"
   ]
  },
  {
   "cell_type": "code",
   "execution_count": 6,
   "metadata": {},
   "outputs": [],
   "source": [
    "data_set = r.log(\n",
    "        metadata.DataSet(\n",
    "            description=\"an example data\",\n",
    "            name=\"mytable-dump\",\n",
    "            owner=\"owner@my-company.org\",\n",
    "            uri=\"file://path/to/dataset\",\n",
    "            version=\"v1.0.0\",\n",
    "            query=\"SELECT * FROM mytable\"))\n",
    "assert data_set.id"
   ]
  },
  {
   "cell_type": "markdown",
   "metadata": {},
   "source": [
    "### Log a model"
   ]
  },
  {
   "cell_type": "code",
   "execution_count": 7,
   "metadata": {},
   "outputs": [],
   "source": [
    "model = r.log(\n",
    "    metadata.Model(\n",
    "            name=\"MNIST\",\n",
    "            description=\"model to recognize handwritten digits\",\n",
    "            owner=\"someone@kubeflow.org\",\n",
    "            uri=\"gcs://my-bucket/mnist\",\n",
    "            model_type=\"neural network\",\n",
    "            training_framework={\n",
    "                \"name\": \"tensorflow\",\n",
    "                \"version\": \"v1.0\"\n",
    "            },\n",
    "            hyperparameters={\n",
    "                \"learning_rate\": 0.5,\n",
    "                \"layers\": [10, 3, 1],\n",
    "                \"early_stop\": True\n",
    "            },\n",
    "            version=\"v0.0.1\",\n",
    "            labels={\"mylabel\": \"l1\"}))\n",
    "assert model.id"
   ]
  },
  {
   "cell_type": "markdown",
   "metadata": {},
   "source": [
    "### Log an evaluation of a model"
   ]
  },
  {
   "cell_type": "code",
   "execution_count": 8,
   "metadata": {},
   "outputs": [],
   "source": [
    "metrics = r.log(\n",
    "    metadata.Metrics(\n",
    "            name=\"MNIST-evaluation\",\n",
    "            description=\"validating the MNIST model to recognize handwritten digits\",\n",
    "            owner=\"someone@kubeflow.org\",\n",
    "            uri=\"gcs://my-bucket/mnist-eval.csv\",\n",
    "            data_set_id=data_set.id,\n",
    "            model_id=model.id,\n",
    "            metrics_type=metadata.Metrics.VALIDATION,\n",
    "            values={\"accuracy\": 0.95},\n",
    "            labels={\"mylabel\": \"l1\"}))\n",
    "assert metrics.id"
   ]
  },
  {
   "cell_type": "markdown",
   "metadata": {},
   "source": [
    "### List all models in the workspace"
   ]
  },
  {
   "cell_type": "code",
   "execution_count": 9,
   "metadata": {},
   "outputs": [
    {
     "data": {
      "text/html": [
       "<div>\n",
       "<style scoped>\n",
       "    .dataframe tbody tr th:only-of-type {\n",
       "        vertical-align: middle;\n",
       "    }\n",
       "\n",
       "    .dataframe tbody tr th {\n",
       "        vertical-align: top;\n",
       "    }\n",
       "\n",
       "    .dataframe thead th {\n",
       "        text-align: right;\n",
       "    }\n",
       "</style>\n",
       "<table border=\"1\" class=\"dataframe\">\n",
       "  <thead>\n",
       "    <tr style=\"text-align: right;\">\n",
       "      <th></th>\n",
       "      <th>create_time</th>\n",
       "      <th>description</th>\n",
       "      <th>hyperparameters</th>\n",
       "      <th>id</th>\n",
       "      <th>labels</th>\n",
       "      <th>model_type</th>\n",
       "      <th>name</th>\n",
       "      <th>owner</th>\n",
       "      <th>run</th>\n",
       "      <th>training_framework</th>\n",
       "      <th>uri</th>\n",
       "      <th>version</th>\n",
       "      <th>workspace</th>\n",
       "    </tr>\n",
       "  </thead>\n",
       "  <tbody>\n",
       "    <tr>\n",
       "      <th>0</th>\n",
       "      <td>2019-06-14T22:00:26.155444Z</td>\n",
       "      <td>model to recognize handwritten digits</td>\n",
       "      <td>{'learning_rate': 0.5, 'layers': [10, 3, 1], '...</td>\n",
       "      <td>122</td>\n",
       "      <td>{'mylabel': 'l1'}</td>\n",
       "      <td>neural network</td>\n",
       "      <td>MNIST</td>\n",
       "      <td>someone@kubeflow.org</td>\n",
       "      <td>first run</td>\n",
       "      <td>{'name': 'tensorflow', 'version': 'v1.0'}</td>\n",
       "      <td>gcs://my-bucket/mnist</td>\n",
       "      <td>v0.0.1</td>\n",
       "      <td>ws1</td>\n",
       "    </tr>\n",
       "    <tr>\n",
       "      <th>1</th>\n",
       "      <td>2019-06-14T22:00:50.779346Z</td>\n",
       "      <td>model to recognize handwritten digits</td>\n",
       "      <td>{'learning_rate': 0.5, 'layers': [10, 3, 1], '...</td>\n",
       "      <td>124</td>\n",
       "      <td>{'mylabel': 'l1'}</td>\n",
       "      <td>neural network</td>\n",
       "      <td>MNIST</td>\n",
       "      <td>someone@kubeflow.org</td>\n",
       "      <td>first run</td>\n",
       "      <td>{'name': 'tensorflow', 'version': 'v1.0'}</td>\n",
       "      <td>gcs://my-bucket/mnist</td>\n",
       "      <td>v0.0.1</td>\n",
       "      <td>ws1</td>\n",
       "    </tr>\n",
       "    <tr>\n",
       "      <th>2</th>\n",
       "      <td>2019-06-14T22:00:53.050369Z</td>\n",
       "      <td>model to recognize handwritten digits</td>\n",
       "      <td>{'learning_rate': 0.5, 'layers': [10, 3, 1], '...</td>\n",
       "      <td>125</td>\n",
       "      <td>{'mylabel': 'l1'}</td>\n",
       "      <td>neural network</td>\n",
       "      <td>MNIST</td>\n",
       "      <td>someone@kubeflow.org</td>\n",
       "      <td>first run</td>\n",
       "      <td>{'name': 'tensorflow', 'version': 'v1.0'}</td>\n",
       "      <td>gcs://my-bucket/mnist</td>\n",
       "      <td>v0.0.1</td>\n",
       "      <td>ws1</td>\n",
       "    </tr>\n",
       "    <tr>\n",
       "      <th>3</th>\n",
       "      <td>2019-06-14T22:00:55.802075Z</td>\n",
       "      <td>model to recognize handwritten digits</td>\n",
       "      <td>{'learning_rate': 0.5, 'layers': [10, 3, 1], '...</td>\n",
       "      <td>126</td>\n",
       "      <td>{'mylabel': 'l1'}</td>\n",
       "      <td>neural network</td>\n",
       "      <td>MNIST</td>\n",
       "      <td>someone@kubeflow.org</td>\n",
       "      <td>first run</td>\n",
       "      <td>{'name': 'tensorflow', 'version': 'v1.0'}</td>\n",
       "      <td>gcs://my-bucket/mnist</td>\n",
       "      <td>v0.0.1</td>\n",
       "      <td>ws1</td>\n",
       "    </tr>\n",
       "    <tr>\n",
       "      <th>4</th>\n",
       "      <td>2019-06-14T22:16:35.406927Z</td>\n",
       "      <td>model to recognize handwritten digits</td>\n",
       "      <td>{'learning_rate': 0.5, 'layers': [10, 3, 1], '...</td>\n",
       "      <td>128</td>\n",
       "      <td>{'mylabel': 'l1'}</td>\n",
       "      <td>neural network</td>\n",
       "      <td>MNIST</td>\n",
       "      <td>someone@kubeflow.org</td>\n",
       "      <td>first run</td>\n",
       "      <td>{'name': 'tensorflow', 'version': 'v1.0'}</td>\n",
       "      <td>gcs://my-bucket/mnist</td>\n",
       "      <td>v0.0.1</td>\n",
       "      <td>ws1</td>\n",
       "    </tr>\n",
       "    <tr>\n",
       "      <th>5</th>\n",
       "      <td>2019-06-14T22:20:36.549267Z</td>\n",
       "      <td>model to recognize handwritten digits</td>\n",
       "      <td>{'learning_rate': 0.5, 'layers': [10, 3, 1], '...</td>\n",
       "      <td>131</td>\n",
       "      <td>{'mylabel': 'l1'}</td>\n",
       "      <td>neural network</td>\n",
       "      <td>MNIST</td>\n",
       "      <td>someone@kubeflow.org</td>\n",
       "      <td>first run</td>\n",
       "      <td>{'name': 'tensorflow', 'version': 'v1.0'}</td>\n",
       "      <td>gcs://my-bucket/mnist</td>\n",
       "      <td>v0.0.1</td>\n",
       "      <td>ws1</td>\n",
       "    </tr>\n",
       "    <tr>\n",
       "      <th>6</th>\n",
       "      <td>2019-06-14T22:23:50.351408Z</td>\n",
       "      <td>model to recognize handwritten digits</td>\n",
       "      <td>{'learning_rate': 0.5, 'layers': [10, 3, 1], '...</td>\n",
       "      <td>134</td>\n",
       "      <td>{'mylabel': 'l1'}</td>\n",
       "      <td>neural network</td>\n",
       "      <td>MNIST</td>\n",
       "      <td>someone@kubeflow.org</td>\n",
       "      <td>first run</td>\n",
       "      <td>{'name': 'tensorflow', 'version': 'v1.0'}</td>\n",
       "      <td>gcs://my-bucket/mnist</td>\n",
       "      <td>v0.0.1</td>\n",
       "      <td>ws1</td>\n",
       "    </tr>\n",
       "  </tbody>\n",
       "</table>\n",
       "</div>"
      ],
      "text/plain": [
       "                   create_time                            description  \\\n",
       "0  2019-06-14T22:00:26.155444Z  model to recognize handwritten digits   \n",
       "1  2019-06-14T22:00:50.779346Z  model to recognize handwritten digits   \n",
       "2  2019-06-14T22:00:53.050369Z  model to recognize handwritten digits   \n",
       "3  2019-06-14T22:00:55.802075Z  model to recognize handwritten digits   \n",
       "4  2019-06-14T22:16:35.406927Z  model to recognize handwritten digits   \n",
       "5  2019-06-14T22:20:36.549267Z  model to recognize handwritten digits   \n",
       "6  2019-06-14T22:23:50.351408Z  model to recognize handwritten digits   \n",
       "\n",
       "                                     hyperparameters   id             labels  \\\n",
       "0  {'learning_rate': 0.5, 'layers': [10, 3, 1], '...  122  {'mylabel': 'l1'}   \n",
       "1  {'learning_rate': 0.5, 'layers': [10, 3, 1], '...  124  {'mylabel': 'l1'}   \n",
       "2  {'learning_rate': 0.5, 'layers': [10, 3, 1], '...  125  {'mylabel': 'l1'}   \n",
       "3  {'learning_rate': 0.5, 'layers': [10, 3, 1], '...  126  {'mylabel': 'l1'}   \n",
       "4  {'learning_rate': 0.5, 'layers': [10, 3, 1], '...  128  {'mylabel': 'l1'}   \n",
       "5  {'learning_rate': 0.5, 'layers': [10, 3, 1], '...  131  {'mylabel': 'l1'}   \n",
       "6  {'learning_rate': 0.5, 'layers': [10, 3, 1], '...  134  {'mylabel': 'l1'}   \n",
       "\n",
       "       model_type   name                 owner        run  \\\n",
       "0  neural network  MNIST  someone@kubeflow.org  first run   \n",
       "1  neural network  MNIST  someone@kubeflow.org  first run   \n",
       "2  neural network  MNIST  someone@kubeflow.org  first run   \n",
       "3  neural network  MNIST  someone@kubeflow.org  first run   \n",
       "4  neural network  MNIST  someone@kubeflow.org  first run   \n",
       "5  neural network  MNIST  someone@kubeflow.org  first run   \n",
       "6  neural network  MNIST  someone@kubeflow.org  first run   \n",
       "\n",
       "                          training_framework                    uri version  \\\n",
       "0  {'name': 'tensorflow', 'version': 'v1.0'}  gcs://my-bucket/mnist  v0.0.1   \n",
       "1  {'name': 'tensorflow', 'version': 'v1.0'}  gcs://my-bucket/mnist  v0.0.1   \n",
       "2  {'name': 'tensorflow', 'version': 'v1.0'}  gcs://my-bucket/mnist  v0.0.1   \n",
       "3  {'name': 'tensorflow', 'version': 'v1.0'}  gcs://my-bucket/mnist  v0.0.1   \n",
       "4  {'name': 'tensorflow', 'version': 'v1.0'}  gcs://my-bucket/mnist  v0.0.1   \n",
       "5  {'name': 'tensorflow', 'version': 'v1.0'}  gcs://my-bucket/mnist  v0.0.1   \n",
       "6  {'name': 'tensorflow', 'version': 'v1.0'}  gcs://my-bucket/mnist  v0.0.1   \n",
       "\n",
       "  workspace  \n",
       "0       ws1  \n",
       "1       ws1  \n",
       "2       ws1  \n",
       "3       ws1  \n",
       "4       ws1  \n",
       "5       ws1  \n",
       "6       ws1  "
      ]
     },
     "execution_count": 9,
     "metadata": {},
     "output_type": "execute_result"
    }
   ],
   "source": [
    "pandas.DataFrame.from_dict(ws1.list(metadata.Model.ARTIFACT_TYPE_NAME))"
   ]
  }
 ],
 "metadata": {
  "kernelspec": {
   "display_name": "Python 3",
   "language": "python",
   "name": "python3"
  },
  "language_info": {
   "codemirror_mode": {
    "name": "ipython",
    "version": 3
   },
   "file_extension": ".py",
   "mimetype": "text/x-python",
   "name": "python",
   "nbconvert_exporter": "python",
   "pygments_lexer": "ipython3",
   "version": "3.6.7"
  }
 },
 "nbformat": 4,
 "nbformat_minor": 2
}
