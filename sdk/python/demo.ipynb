{
 "cells": [
  {
   "cell_type": "code",
   "execution_count": null,
   "metadata": {},
   "outputs": [],
   "source": [
    "!pip install pandas"
   ]
  },
  {
   "cell_type": "markdown",
   "metadata": {},
   "source": [
    "### Install the _kfmd_ library"
   ]
  },
  {
   "cell_type": "code",
   "execution_count": 86,
   "metadata": {},
   "outputs": [],
   "source": [
    "# use local `kfmd` library\n",
    "import sys\n",
    "sys.path\n",
    "sys.path.append('/home/jovyan/work/sdk/python/kfmd')\n",
    "\n",
    "# To use the latest publish `kfmd` library, run\n",
    "# !pip install kfmd"
   ]
  },
  {
   "cell_type": "code",
   "execution_count": 87,
   "metadata": {},
   "outputs": [],
   "source": [
    "import metadata\n",
    "import pandas\n",
    "from datetime import datetime"
   ]
  },
  {
   "cell_type": "markdown",
   "metadata": {},
   "source": [
    "### Create a workspace"
   ]
  },
  {
   "cell_type": "code",
   "execution_count": 88,
   "metadata": {},
   "outputs": [],
   "source": [
    "ws1 = metadata.Workspace(\n",
    "    backend_url_prefix=\"127.0.0.1:8080\",\n",
    "    name=\"ws1\",\n",
    "    description=\"a workspace for testing\",\n",
    "    labels={\"n1\": \"v1\"})"
   ]
  },
  {
   "cell_type": "markdown",
   "metadata": {},
   "source": [
    "### Create a run in a workspace"
   ]
  },
  {
   "cell_type": "code",
   "execution_count": 89,
   "metadata": {},
   "outputs": [],
   "source": [
    "r = metadata.Run(\n",
    "    workspace=ws1,\n",
    "    name=\"run-\" + datetime.utcnow().isoformat(\"T\") ,\n",
    "    description=\"a run in ws_1\",\n",
    ")"
   ]
  },
  {
   "cell_type": "markdown",
   "metadata": {},
   "source": [
    "### Create an execution in a run"
   ]
  },
  {
   "cell_type": "code",
   "execution_count": 90,
   "metadata": {},
   "outputs": [
    {
     "name": "stdout",
     "output_type": "stream",
     "text": [
      "An execution is create with id 5\n"
     ]
    }
   ],
   "source": [
    "exec = metadata.Execution(\n",
    "    name = \"execution\" + datetime.utcnow().isoformat(\"T\") ,\n",
    "    workspace=ws1,\n",
    "    run=r,\n",
    "    description=\"execution example\",\n",
    ")\n",
    "print(\"An execution is create with id %s\" % exec.id)"
   ]
  },
  {
   "cell_type": "markdown",
   "metadata": {},
   "source": [
    "### Log a data set"
   ]
  },
  {
   "cell_type": "code",
   "execution_count": 91,
   "metadata": {},
   "outputs": [
    {
     "name": "stdout",
     "output_type": "stream",
     "text": [
      "data set id is 13\n"
     ]
    }
   ],
   "source": [
    "data_set = exec.log_input(\n",
    "        metadata.DataSet(\n",
    "            description=\"an example data\",\n",
    "            name=\"mytable-dump\",\n",
    "            owner=\"owner@my-company.org\",\n",
    "            uri=\"file://path/to/dataset\",\n",
    "            version=\"v1.0.0\",\n",
    "            query=\"SELECT * FROM mytable\"))\n",
    "assert data_set.id\n",
    "print(\"data set id is %s\" % data_set.id)"
   ]
  },
  {
   "cell_type": "markdown",
   "metadata": {},
   "source": [
    "### Log a model"
   ]
  },
  {
   "cell_type": "code",
   "execution_count": 92,
   "metadata": {},
   "outputs": [
    {
     "name": "stdout",
     "output_type": "stream",
     "text": [
      "model id is 14\n"
     ]
    }
   ],
   "source": [
    "model = exec.log_output(\n",
    "    metadata.Model(\n",
    "            name=\"MNIST\",\n",
    "            description=\"model to recognize handwritten digits\",\n",
    "            owner=\"someone@kubeflow.org\",\n",
    "            uri=\"gcs://my-bucket/mnist\",\n",
    "            model_type=\"neural network\",\n",
    "            training_framework={\n",
    "                \"name\": \"tensorflow\",\n",
    "                \"version\": \"v1.0\"\n",
    "            },\n",
    "            hyperparameters={\n",
    "                \"learning_rate\": 0.5,\n",
    "                \"layers\": [10, 3, 1],\n",
    "                \"early_stop\": True\n",
    "            },\n",
    "            version=\"v0.0.1\",\n",
    "            labels={\"mylabel\": \"l1\"}))\n",
    "assert model.id\n",
    "print(\"model id is %s\" % model.id)"
   ]
  },
  {
   "cell_type": "markdown",
   "metadata": {},
   "source": [
    "### Log an evaluation of a model"
   ]
  },
  {
   "cell_type": "code",
   "execution_count": 93,
   "metadata": {},
   "outputs": [
    {
     "name": "stdout",
     "output_type": "stream",
     "text": [
      "metrics id is 14\n"
     ]
    }
   ],
   "source": [
    "metrics = exec.log_output(\n",
    "    metadata.Metrics(\n",
    "            name=\"MNIST-evaluation\",\n",
    "            description=\"validating the MNIST model to recognize handwritten digits\",\n",
    "            owner=\"someone@kubeflow.org\",\n",
    "            uri=\"gcs://my-bucket/mnist-eval.csv\",\n",
    "            data_set_id=data_set.id,\n",
    "            model_id=model.id,\n",
    "            metrics_type=metadata.Metrics.VALIDATION,\n",
    "            values={\"accuracy\": 0.95},\n",
    "            labels={\"mylabel\": \"l1\"}))\n",
    "assert metrics.id\n",
    "print(\"metrics id is %s\" % model.id)"
   ]
  },
  {
   "cell_type": "markdown",
   "metadata": {},
   "source": [
    "### List all models in the workspace"
   ]
  },
  {
   "cell_type": "code",
   "execution_count": 94,
   "metadata": {},
   "outputs": [
    {
     "data": {
      "text/html": [
       "<div>\n",
       "<style scoped>\n",
       "    .dataframe tbody tr th:only-of-type {\n",
       "        vertical-align: middle;\n",
       "    }\n",
       "\n",
       "    .dataframe tbody tr th {\n",
       "        vertical-align: top;\n",
       "    }\n",
       "\n",
       "    .dataframe thead th {\n",
       "        text-align: right;\n",
       "    }\n",
       "</style>\n",
       "<table border=\"1\" class=\"dataframe\">\n",
       "  <thead>\n",
       "    <tr style=\"text-align: right;\">\n",
       "      <th></th>\n",
       "      <th>create_time</th>\n",
       "      <th>description</th>\n",
       "      <th>hyperparameters</th>\n",
       "      <th>id</th>\n",
       "      <th>labels</th>\n",
       "      <th>model_type</th>\n",
       "      <th>name</th>\n",
       "      <th>owner</th>\n",
       "      <th>run</th>\n",
       "      <th>training_framework</th>\n",
       "      <th>uri</th>\n",
       "      <th>version</th>\n",
       "      <th>workspace</th>\n",
       "    </tr>\n",
       "  </thead>\n",
       "  <tbody>\n",
       "    <tr>\n",
       "      <th>0</th>\n",
       "      <td>2019-06-27T00:14:51.086151Z</td>\n",
       "      <td>model to recognize handwritten digits</td>\n",
       "      <td>{'learning_rate': 0.5, 'layers': [10, 3, 1], '...</td>\n",
       "      <td>2</td>\n",
       "      <td>{'mylabel': 'l1'}</td>\n",
       "      <td>neural network</td>\n",
       "      <td>MNIST</td>\n",
       "      <td>someone@kubeflow.org</td>\n",
       "      <td>run-2019-06-27T00:14:51.019588</td>\n",
       "      <td>{'name': 'tensorflow', 'version': 'v1.0'}</td>\n",
       "      <td>gcs://my-bucket/mnist</td>\n",
       "      <td>v0.0.1</td>\n",
       "      <td>ws1</td>\n",
       "    </tr>\n",
       "    <tr>\n",
       "      <th>1</th>\n",
       "      <td>2019-06-27T00:15:19.060262Z</td>\n",
       "      <td>model to recognize handwritten digits</td>\n",
       "      <td>{'learning_rate': 0.5, 'layers': [10, 3, 1], '...</td>\n",
       "      <td>5</td>\n",
       "      <td>{'mylabel': 'l1'}</td>\n",
       "      <td>neural network</td>\n",
       "      <td>MNIST</td>\n",
       "      <td>someone@kubeflow.org</td>\n",
       "      <td>run-2019-06-27T00:15:18.988422</td>\n",
       "      <td>{'name': 'tensorflow', 'version': 'v1.0'}</td>\n",
       "      <td>gcs://my-bucket/mnist</td>\n",
       "      <td>v0.0.1</td>\n",
       "      <td>ws1</td>\n",
       "    </tr>\n",
       "    <tr>\n",
       "      <th>2</th>\n",
       "      <td>2019-06-27T00:15:25.167876Z</td>\n",
       "      <td>model to recognize handwritten digits</td>\n",
       "      <td>{'learning_rate': 0.5, 'layers': [10, 3, 1], '...</td>\n",
       "      <td>8</td>\n",
       "      <td>{'mylabel': 'l1'}</td>\n",
       "      <td>neural network</td>\n",
       "      <td>MNIST</td>\n",
       "      <td>someone@kubeflow.org</td>\n",
       "      <td>run-2019-06-27T00:15:25.097153</td>\n",
       "      <td>{'name': 'tensorflow', 'version': 'v1.0'}</td>\n",
       "      <td>gcs://my-bucket/mnist</td>\n",
       "      <td>v0.0.1</td>\n",
       "      <td>ws1</td>\n",
       "    </tr>\n",
       "    <tr>\n",
       "      <th>3</th>\n",
       "      <td>2019-06-27T00:16:41.696274Z</td>\n",
       "      <td>model to recognize handwritten digits</td>\n",
       "      <td>{'learning_rate': 0.5, 'layers': [10, 3, 1], '...</td>\n",
       "      <td>14</td>\n",
       "      <td>{'mylabel': 'l1'}</td>\n",
       "      <td>neural network</td>\n",
       "      <td>MNIST</td>\n",
       "      <td>someone@kubeflow.org</td>\n",
       "      <td>run-2019-06-27T00:16:41.641078</td>\n",
       "      <td>{'name': 'tensorflow', 'version': 'v1.0'}</td>\n",
       "      <td>gcs://my-bucket/mnist</td>\n",
       "      <td>v0.0.1</td>\n",
       "      <td>ws1</td>\n",
       "    </tr>\n",
       "  </tbody>\n",
       "</table>\n",
       "</div>"
      ],
      "text/plain": [
       "                   create_time                            description  \\\n",
       "0  2019-06-27T00:14:51.086151Z  model to recognize handwritten digits   \n",
       "1  2019-06-27T00:15:19.060262Z  model to recognize handwritten digits   \n",
       "2  2019-06-27T00:15:25.167876Z  model to recognize handwritten digits   \n",
       "3  2019-06-27T00:16:41.696274Z  model to recognize handwritten digits   \n",
       "\n",
       "                                     hyperparameters  id             labels  \\\n",
       "0  {'learning_rate': 0.5, 'layers': [10, 3, 1], '...   2  {'mylabel': 'l1'}   \n",
       "1  {'learning_rate': 0.5, 'layers': [10, 3, 1], '...   5  {'mylabel': 'l1'}   \n",
       "2  {'learning_rate': 0.5, 'layers': [10, 3, 1], '...   8  {'mylabel': 'l1'}   \n",
       "3  {'learning_rate': 0.5, 'layers': [10, 3, 1], '...  14  {'mylabel': 'l1'}   \n",
       "\n",
       "       model_type   name                 owner  \\\n",
       "0  neural network  MNIST  someone@kubeflow.org   \n",
       "1  neural network  MNIST  someone@kubeflow.org   \n",
       "2  neural network  MNIST  someone@kubeflow.org   \n",
       "3  neural network  MNIST  someone@kubeflow.org   \n",
       "\n",
       "                              run                         training_framework  \\\n",
       "0  run-2019-06-27T00:14:51.019588  {'name': 'tensorflow', 'version': 'v1.0'}   \n",
       "1  run-2019-06-27T00:15:18.988422  {'name': 'tensorflow', 'version': 'v1.0'}   \n",
       "2  run-2019-06-27T00:15:25.097153  {'name': 'tensorflow', 'version': 'v1.0'}   \n",
       "3  run-2019-06-27T00:16:41.641078  {'name': 'tensorflow', 'version': 'v1.0'}   \n",
       "\n",
       "                     uri version workspace  \n",
       "0  gcs://my-bucket/mnist  v0.0.1       ws1  \n",
       "1  gcs://my-bucket/mnist  v0.0.1       ws1  \n",
       "2  gcs://my-bucket/mnist  v0.0.1       ws1  \n",
       "3  gcs://my-bucket/mnist  v0.0.1       ws1  "
      ]
     },
     "execution_count": 94,
     "metadata": {},
     "output_type": "execute_result"
    }
   ],
   "source": [
    "pandas.DataFrame.from_dict(ws1.list(metadata.Model.ARTIFACT_TYPE_NAME))"
   ]
  },
  {
   "cell_type": "markdown",
   "metadata": {},
   "source": [
    "### Basic Lineage Tracking"
   ]
  },
  {
   "cell_type": "code",
   "execution_count": 95,
   "metadata": {},
   "outputs": [
    {
     "name": "stdout",
     "output_type": "stream",
     "text": [
      "model id is 14\n",
      "\n",
      "\n",
      "All events related to this model:\n"
     ]
    },
    {
     "data": {
      "text/html": [
       "<div>\n",
       "<style scoped>\n",
       "    .dataframe tbody tr th:only-of-type {\n",
       "        vertical-align: middle;\n",
       "    }\n",
       "\n",
       "    .dataframe tbody tr th {\n",
       "        vertical-align: top;\n",
       "    }\n",
       "\n",
       "    .dataframe thead th {\n",
       "        text-align: right;\n",
       "    }\n",
       "</style>\n",
       "<table border=\"1\" class=\"dataframe\">\n",
       "  <thead>\n",
       "    <tr style=\"text-align: right;\">\n",
       "      <th></th>\n",
       "      <th>artifact_id</th>\n",
       "      <th>execution_id</th>\n",
       "      <th>milliseconds_since_epoch</th>\n",
       "      <th>path</th>\n",
       "      <th>type</th>\n",
       "    </tr>\n",
       "  </thead>\n",
       "  <tbody>\n",
       "    <tr>\n",
       "      <th>0</th>\n",
       "      <td>13</td>\n",
       "      <td>5</td>\n",
       "      <td>1561594601677</td>\n",
       "      <td>None</td>\n",
       "      <td>INPUT</td>\n",
       "    </tr>\n",
       "    <tr>\n",
       "      <th>1</th>\n",
       "      <td>14</td>\n",
       "      <td>5</td>\n",
       "      <td>1561594601720</td>\n",
       "      <td>None</td>\n",
       "      <td>OUTPUT</td>\n",
       "    </tr>\n",
       "    <tr>\n",
       "      <th>2</th>\n",
       "      <td>15</td>\n",
       "      <td>5</td>\n",
       "      <td>1561594601756</td>\n",
       "      <td>None</td>\n",
       "      <td>OUTPUT</td>\n",
       "    </tr>\n",
       "  </tbody>\n",
       "</table>\n",
       "</div>"
      ],
      "text/plain": [
       "  artifact_id execution_id milliseconds_since_epoch  path    type\n",
       "0          13            5            1561594601677  None   INPUT\n",
       "1          14            5            1561594601720  None  OUTPUT\n",
       "2          15            5            1561594601756  None  OUTPUT"
      ]
     },
     "execution_count": 95,
     "metadata": {},
     "output_type": "execute_result"
    }
   ],
   "source": [
    "print(\"model id is %s\\n\" % model.id)\n",
    "    \n",
    "# Find the execution that produces this model.\n",
    "output_events = ws1._client.search_events2(model.id).events\n",
    "assert len(output_events) == 1\n",
    "execution_id = output_events[0].execution_id\n",
    "\n",
    "# Find all events related to that execution.\n",
    "all_events = ws1._client.search_events(execution_id).events\n",
    "assert len(all_events) == 3\n",
    "\n",
    "print(\"\\nAll events related to this model:\")\n",
    "pandas.DataFrame.from_dict([e.to_dict() for e in all_events])"
   ]
  }
 ],
 "metadata": {
  "kernelspec": {
   "display_name": "Python 3",
   "language": "python",
   "name": "python3"
  },
  "language_info": {
   "codemirror_mode": {
    "name": "ipython",
    "version": 3
   },
   "file_extension": ".py",
   "mimetype": "text/x-python",
   "name": "python",
   "nbconvert_exporter": "python",
   "pygments_lexer": "ipython3",
   "version": "3.6.7"
  }
 },
 "nbformat": 4,
 "nbformat_minor": 2
}
